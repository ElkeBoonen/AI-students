{
 "cells": [
  {
   "cell_type": "code",
   "execution_count": 3,
   "metadata": {},
   "outputs": [
    {
     "name": "stdout",
     "output_type": "stream",
     "text": [
      "m  [5.44047619]\n",
      "b  31.642857142857125\n",
      "R²  0.9271175982278805\n"
     ]
    }
   ],
   "source": [
    "from sklearn.linear_model import LinearRegression\n",
    "import pandas as pd\n",
    "import numpy as np\n",
    "\n",
    "x = [1, 2, 3, 4, 5, 6, 7, 8 ]\n",
    "X = np.reshape(x,(-1, 1))\n",
    "y = [30, 45, 51, 57, 60, 65, 70, 71 ]\n",
    "\n",
    "\t\n",
    "#x = np.array([1,2,3,4,5,6,7,8 ]).reshape((-1, 1))\n",
    "#y = np.array([30,45,51,57,60,65,70,71 ])\n",
    "\n",
    "#df = pd.DataFrame(x,y)\n",
    "#print(df)\n",
    "\n",
    "lr = LinearRegression()\n",
    "lr.fit(X,y)\n",
    "\n",
    "print(\"m \", lr.coef_)\n",
    "print(\"b \", lr.intercept_)\n",
    "print(\"R² \", lr.score(X,y))\n",
    "\n"
   ]
  }
 ],
 "metadata": {
  "kernelspec": {
   "display_name": "Python 3.7.4 64-bit",
   "language": "python",
   "name": "python3"
  },
  "language_info": {
   "codemirror_mode": {
    "name": "ipython",
    "version": 3
   },
   "file_extension": ".py",
   "mimetype": "text/x-python",
   "name": "python",
   "nbconvert_exporter": "python",
   "pygments_lexer": "ipython3",
   "version": "3.7.4"
  },
  "orig_nbformat": 4,
  "vscode": {
   "interpreter": {
    "hash": "7e45a591636b8059a3511f51eb84f0cf9a867c0e545a110f58ba3a9c1ada6645"
   }
  }
 },
 "nbformat": 4,
 "nbformat_minor": 2
}
