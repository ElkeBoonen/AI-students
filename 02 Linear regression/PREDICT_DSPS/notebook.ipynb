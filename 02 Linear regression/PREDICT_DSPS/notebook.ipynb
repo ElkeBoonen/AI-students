{
 "cells": [
  {
   "cell_type": "code",
   "execution_count": null,
   "metadata": {},
   "outputs": [],
   "source": [
    "import pandas as pd\n",
    "import numpy as np\n",
    "from sklearn.linear_model import LinearRegression\n",
    "\n",
    "x = np.array([1,2,3,4,5,6,7,8 ]).reshape((-1, 1))\n",
    "y = np.array([30,45,51,57,60,65,70,71 ])\n",
    "\n",
    "model = LinearRegression()\n",
    "model.fit(x, y)\n",
    "\n",
    "print(\"intercept:\",model.intercept_)\n",
    "print(\"slope:\", model.coef_)"
   ]
  }
 ],
 "metadata": {
  "language_info": {
   "name": "python"
  }
 },
 "nbformat": 4,
 "nbformat_minor": 2
}
